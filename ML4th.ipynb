{
 "cells": [
  {
   "cell_type": "code",
   "execution_count": 1,
   "id": "7f470091",
   "metadata": {},
   "outputs": [
    {
     "data": {
      "text/plain": [
       "'\\nStep 1: Collect Data. ...\\nStep 2: Prepare the data. ...\\nStep 3: Choose the model. ...\\nStep 4 Train your machine model. ...\\nStep 5: Evaluation. ...\\nStep 6: Parameter Tuning. ...\\nStep 7: Prediction or Inference.\\n'"
      ]
     },
     "execution_count": 1,
     "metadata": {},
     "output_type": "execute_result"
    }
   ],
   "source": [
    "#1.\n",
    "'''\n",
    "Step 1: Collect Data. ...\n",
    "Step 2: Prepare the data. ...\n",
    "Step 3: Choose the model. ...\n",
    "Step 4 Train your machine model. ...\n",
    "Step 5: Evaluation. ...\n",
    "Step 6: Parameter Tuning. ...\n",
    "Step 7: Prediction or Inference.\n",
    "'''"
   ]
  },
  {
   "cell_type": "code",
   "execution_count": 2,
   "id": "bbb33d7f",
   "metadata": {},
   "outputs": [
    {
     "data": {
      "text/plain": [
       "'numerical data, categorical data, time-series data, and text,image data'"
      ]
     },
     "execution_count": 2,
     "metadata": {},
     "output_type": "execute_result"
    }
   ],
   "source": [
    "#2.\n",
    "'''numerical data, categorical data, time-series data, and text,image data'''"
   ]
  },
  {
   "cell_type": "code",
   "execution_count": 3,
   "id": "c8c2e486",
   "metadata": {},
   "outputs": [
    {
     "data": {
      "text/plain": [
       "'\\nNumerical data is used to mean anything represented by numbers (floating point or integer). Categorical data generally means everything else and in particular discrete labeled groups are often called out.\\n\\n\\nWhile both methods are used for reducing the number of features in a dataset, there is an important difference. Feature selection is simply selecting and excluding given features without changing them. Dimensionality reduction transforms features into a lower dimension.'"
      ]
     },
     "execution_count": 3,
     "metadata": {},
     "output_type": "execute_result"
    }
   ],
   "source": [
    "#3.\n",
    "'''\n",
    "Numerical data is used to mean anything represented by numbers (floating point or integer). Categorical data generally means everything else and in particular discrete labeled groups are often called out.\n",
    "\n",
    "\n",
    "While both methods are used for reducing the number of features in a dataset, there is an important difference. Feature selection is simply selecting and excluding given features without changing them. Dimensionality reduction transforms features into a lower dimension.'''"
   ]
  },
  {
   "cell_type": "code",
   "execution_count": 4,
   "id": "d866a297",
   "metadata": {},
   "outputs": [
    {
     "data": {
      "text/plain": [
       "'\\nA histogram is a graphical representation that organizes a group of data points into user-specified ranges. Similar in appearance to a bar graph, the histogram condenses a data series into an easily interpreted visual by taking many data points and grouping them into logical ranges or bins.\\n\\nScatter plots’ primary uses are to observe and show relationships between two numeric variables. The dots in a scatter plot not only report the values of individual data points, but also patterns when the data are taken as a whole.'"
      ]
     },
     "execution_count": 4,
     "metadata": {},
     "output_type": "execute_result"
    }
   ],
   "source": [
    "#4.\n",
    "'''\n",
    "A histogram is a graphical representation that organizes a group of data points into user-specified ranges. Similar in appearance to a bar graph, the histogram condenses a data series into an easily interpreted visual by taking many data points and grouping them into logical ranges or bins.\n",
    "\n",
    "Scatter plots’ primary uses are to observe and show relationships between two numeric variables. The dots in a scatter plot not only report the values of individual data points, but also patterns when the data are taken as a whole.'''"
   ]
  },
  {
   "cell_type": "code",
   "execution_count": 5,
   "id": "2499b931",
   "metadata": {},
   "outputs": [
    {
     "data": {
      "text/plain": [
       "'Why is Data Collection so Important? Collecting data allows you to store and analyze important information about your existing and potential customers. ... As opposed to in-person data collection, collecting data digitally allows for much larger sample sizes and improves the reliability of the data.\\n\\nBackground\\nMixed methods are commonly used in health services research; however, data are not often integrated to explore complementarity of findings. A triangulation protocol is one approach to integrating such data. A retrospective triangulation protocol was carried out on mixed methods data collected as part of a process evaluation of a trial. The multi-country randomised controlled trial found that a web-based training in communication skills (including use of a patient booklet) and the use of a C-reactive protein (CRP) point-of-care test decreased antibiotic prescribing by general practitioners (GPs) for acute cough. The process evaluation investigated GPs’ and patients’ experiences of taking part in the trial.\\n\\nMethods\\nThree analysts independently compared findings across four data sets: qualitative data collected view semi-structured interviews with (1) 62 patients and (2) 66 GPs and quantitative data collected via questionnaires with (3) 2886 patients and (4) 346 GPs. Pairwise comparisons were made between data sets and were categorised as agreement, partial agreement, dissonance or silence.\\n\\nResults\\nThree instances of dissonance occurred in 39 independent findings. GPs and patients reported different views on the use of a CRP test. GPs felt that the test was useful in convincing patients to accept a no-antibiotic decision, but patient data suggested that this was unnecessary if a full explanation was given. Whilst qualitative data indicated all patients were generally satisfied with their consultation, quantitative data indicated highest levels of satisfaction for those receiving a detailed explanation from their GP with a booklet giving advice on self-care. Both qualitative and quantitative data sets indicated higher patient enablement for those in the communication groups who had received a booklet.\\n\\nConclusions\\nUse of CRP tests does not appear to engage patients or influence illness perceptions and its effect is more centred on changing clinician behaviour. Communication skills and the patient booklet were relevant and useful for all patients and associated with increased patient satisfaction. A triangulation protocol to integrate qualitative and quantitative data can reveal findings that need further interpretation and also highlight areas of dissonance that lead to a deeper insight than separate analyses.'"
      ]
     },
     "execution_count": 5,
     "metadata": {},
     "output_type": "execute_result"
    }
   ],
   "source": [
    "#5.\n",
    "'''Why is Data Collection so Important? Collecting data allows you to store and analyze important information about your existing and potential customers. ... As opposed to in-person data collection, collecting data digitally allows for much larger sample sizes and improves the reliability of the data.\n",
    "\n",
    "Background\n",
    "Mixed methods are commonly used in health services research; however, data are not often integrated to explore complementarity of findings. A triangulation protocol is one approach to integrating such data. A retrospective triangulation protocol was carried out on mixed methods data collected as part of a process evaluation of a trial. The multi-country randomised controlled trial found that a web-based training in communication skills (including use of a patient booklet) and the use of a C-reactive protein (CRP) point-of-care test decreased antibiotic prescribing by general practitioners (GPs) for acute cough. The process evaluation investigated GPs’ and patients’ experiences of taking part in the trial.\n",
    "\n",
    "Methods\n",
    "Three analysts independently compared findings across four data sets: qualitative data collected view semi-structured interviews with (1) 62 patients and (2) 66 GPs and quantitative data collected via questionnaires with (3) 2886 patients and (4) 346 GPs. Pairwise comparisons were made between data sets and were categorised as agreement, partial agreement, dissonance or silence.\n",
    "\n",
    "Results\n",
    "Three instances of dissonance occurred in 39 independent findings. GPs and patients reported different views on the use of a CRP test. GPs felt that the test was useful in convincing patients to accept a no-antibiotic decision, but patient data suggested that this was unnecessary if a full explanation was given. Whilst qualitative data indicated all patients were generally satisfied with their consultation, quantitative data indicated highest levels of satisfaction for those receiving a detailed explanation from their GP with a booklet giving advice on self-care. Both qualitative and quantitative data sets indicated higher patient enablement for those in the communication groups who had received a booklet.\n",
    "\n",
    "Conclusions\n",
    "Use of CRP tests does not appear to engage patients or influence illness perceptions and its effect is more centred on changing clinician behaviour. Communication skills and the patient booklet were relevant and useful for all patients and associated with increased patient satisfaction. A triangulation protocol to integrate qualitative and quantitative data can reveal findings that need further interpretation and also highlight areas of dissonance that lead to a deeper insight than separate analyses.'''"
   ]
  },
  {
   "cell_type": "code",
   "execution_count": 6,
   "id": "69ad9816",
   "metadata": {},
   "outputs": [
    {
     "data": {
      "text/plain": [
       "'\\nSkewed Distribution. The skewed distribution is asymmetrical because a natural limit prevents outcomes on one side. ...\\nDouble-Peaked or Bimodal. ...\\nPlateau or Multimodal Distribution. ...\\nEdge Peak Distribution. ...\\nComb Distribution. ...\\nTruncated or Heart-Cut Distribution. ...\\nDog Food Distribution.\\n\\nA histogram is used to summarize discrete or continuous data. ... of numerical data by showing the number of data points that fall within a specified range of values (called “bins”). It is similar to a vertical bar graph. However, a histogram, unlike a vertical bar graph, shows no gaps between the bars.'"
      ]
     },
     "execution_count": 6,
     "metadata": {},
     "output_type": "execute_result"
    }
   ],
   "source": [
    "#6.\n",
    "'''\n",
    "Skewed Distribution. The skewed distribution is asymmetrical because a natural limit prevents outcomes on one side. ...\n",
    "Double-Peaked or Bimodal. ...\n",
    "Plateau or Multimodal Distribution. ...\n",
    "Edge Peak Distribution. ...\n",
    "Comb Distribution. ...\n",
    "Truncated or Heart-Cut Distribution. ...\n",
    "Dog Food Distribution.\n",
    "\n",
    "A histogram is used to summarize discrete or continuous data. ... of numerical data by showing the number of data points that fall within a specified range of values (called “bins”). It is similar to a vertical bar graph. However, a histogram, unlike a vertical bar graph, shows no gaps between the bars.'''"
   ]
  },
  {
   "cell_type": "code",
   "execution_count": 7,
   "id": "2b2a8a4a",
   "metadata": {},
   "outputs": [
    {
     "data": {
      "text/plain": [
       "'\\nSet up a filter in your testing tool. Even though this has a little cost, filtering out outliers is worth it. ...\\nRemove or change outliers during post-test analysis. ...\\nChange the value of outliers. ...\\nConsider the underlying distribution. ...\\nConsider the value of mild outliers.'"
      ]
     },
     "execution_count": 7,
     "metadata": {},
     "output_type": "execute_result"
    }
   ],
   "source": [
    "#7.\n",
    "'''\n",
    "Set up a filter in your testing tool. Even though this has a little cost, filtering out outliers is worth it. ...\n",
    "Remove or change outliers during post-test analysis. ...\n",
    "Change the value of outliers. ...\n",
    "Consider the underlying distribution. ...\n",
    "Consider the value of mild outliers.'''"
   ]
  },
  {
   "cell_type": "code",
   "execution_count": 8,
   "id": "0d20eb2f",
   "metadata": {},
   "outputs": [
    {
     "data": {
      "text/plain": [
       "'\\nA measure of central tendency is a summary statistic that represents the center point or typical value of a dataset. These measures indicate where most values in a distribution fall and are also referred to as the central location of a distribution. You can think of it as the tendency of data to cluster around a middle value. In statistics, the three most common measures of central tendency are the mean, median, and mode. Each of these measures calculates the location of the central point using a different method.\\n\\nChoosing the best measure of central tendency depends on the type of data you have. In this post, I explore these measures of central tendency, show you how to calculate them, and how to determine which one is best for your data.\\n\\nMost articles that you’ll read about the mean, median, and mode focus on how you calculate each one. I’m going to take a slightly different approach to start out. My philosophy throughout my blog is to help you intuitively grasp statistics by focusing on concepts. Consequently, I’m going to start by illustrating the central point of several datasets graphically—so you understand the goal. Then, we’ll move on to choosing the best measure of central tendency for your data and the calculations.\\n\\nThe three distributions below represent different data conditions. In each distribution, look for the region where the most common values fall. Even though the shapes and type of data are different, you can find that central location. That’s the area in the distribution where the most common values are located.'"
      ]
     },
     "execution_count": 8,
     "metadata": {},
     "output_type": "execute_result"
    }
   ],
   "source": [
    "#8.\n",
    "'''\n",
    "A measure of central tendency is a summary statistic that represents the center point or typical value of a dataset. These measures indicate where most values in a distribution fall and are also referred to as the central location of a distribution. You can think of it as the tendency of data to cluster around a middle value. In statistics, the three most common measures of central tendency are the mean, median, and mode. Each of these measures calculates the location of the central point using a different method.\n",
    "\n",
    "Choosing the best measure of central tendency depends on the type of data you have. In this post, I explore these measures of central tendency, show you how to calculate them, and how to determine which one is best for your data.\n",
    "\n",
    "Most articles that you’ll read about the mean, median, and mode focus on how you calculate each one. I’m going to take a slightly different approach to start out. My philosophy throughout my blog is to help you intuitively grasp statistics by focusing on concepts. Consequently, I’m going to start by illustrating the central point of several datasets graphically—so you understand the goal. Then, we’ll move on to choosing the best measure of central tendency for your data and the calculations.\n",
    "\n",
    "The three distributions below represent different data conditions. In each distribution, look for the region where the most common values fall. Even though the shapes and type of data are different, you can find that central location. That’s the area in the distribution where the most common values are located.'''"
   ]
  },
  {
   "cell_type": "code",
   "execution_count": 9,
   "id": "76c693a0",
   "metadata": {},
   "outputs": [
    {
     "data": {
      "text/plain": [
       "'Scatter Plots (also called scatter diagrams) are used to investigate the possible relationship between two variables that both relate to the same \"event.\" A straight line of best fit (using the least squares method) is often included.'"
      ]
     },
     "execution_count": 9,
     "metadata": {},
     "output_type": "execute_result"
    }
   ],
   "source": [
    "#9.\n",
    "'''Scatter Plots (also called scatter diagrams) are used to investigate the possible relationship between two variables that both relate to the same \"event.\" A straight line of best fit (using the least squares method) is often included.'''"
   ]
  },
  {
   "cell_type": "code",
   "execution_count": 10,
   "id": "e209259e",
   "metadata": {},
   "outputs": [
    {
     "data": {
      "text/plain": [
       "'\\nHave you ever looked at the nutrition chart behind a snack pack? This little table gives you a comprehensive breakdown of how a particular snack will contribute to your overall energy levels. The analysis helps you make informed decisions regarding your diet and calorie consumption.\\n\\nCross-tabulation is a mainframe statistical model that follows similar lines. It helps you make informed decisions regarding your research by identifying patterns, trends, and the correlation between your study parameters. When conducting a study, the raw data can usually be daunting. They will always point to several chaotic possible outcomes. In such a situation, cross-tab helps you zero in on a single theory beyond doubt by drawing trends, comparisons, and correlations between mutually inclusive factors within your study.\\n\\nFor example, consider your college application. You probably did not realize it then, but you were mentally cross-tabulating the factors involved to arrive at a conscious decision concerning the colleges you wanted to attend and had the best shot at while applying. Let us go through your decision-making process one factor at a time.\\n\\nFirst, you needed to look at the academic factor: your grades throughout high school, SAT scores, the field you wanted to major in, and the application essay you would need to write. Second, comes the financial factor, which will look at the tuition fees and possibilities of a scholarship. Lastly, it would be the emotional factor which will consider your distance from home and how far are the universities your friends are considering, so reunions would not be an issue. In other words, cross-tabulating Academics + Finance + Emotions led you to a refined list of universities, one of which is or soon will be your Alma Mater.\\n\\nCross-tabulation, also known as cross-tab or contingency table, is a statistical tool used for categorical data. Categorical data involves values that are mutually exclusive to each other. Data is always collected in numbers, but numbers have no value unless they mean something. 4,7,9 are merely numerical unless specified—for example, 4 apples, 7 bananas, and 9 kiwis.\\n\\nResearchers use cross-tabulation to examine the relationship within the data that is not readily evident. It is quite useful in market research studies and surveys. A cross-tab report shows the connection between two or more questions asked in the study.\\n\\n'"
      ]
     },
     "execution_count": 10,
     "metadata": {},
     "output_type": "execute_result"
    }
   ],
   "source": [
    "#10.\n",
    "'''\n",
    "Have you ever looked at the nutrition chart behind a snack pack? This little table gives you a comprehensive breakdown of how a particular snack will contribute to your overall energy levels. The analysis helps you make informed decisions regarding your diet and calorie consumption.\n",
    "\n",
    "Cross-tabulation is a mainframe statistical model that follows similar lines. It helps you make informed decisions regarding your research by identifying patterns, trends, and the correlation between your study parameters. When conducting a study, the raw data can usually be daunting. They will always point to several chaotic possible outcomes. In such a situation, cross-tab helps you zero in on a single theory beyond doubt by drawing trends, comparisons, and correlations between mutually inclusive factors within your study.\n",
    "\n",
    "For example, consider your college application. You probably did not realize it then, but you were mentally cross-tabulating the factors involved to arrive at a conscious decision concerning the colleges you wanted to attend and had the best shot at while applying. Let us go through your decision-making process one factor at a time.\n",
    "\n",
    "First, you needed to look at the academic factor: your grades throughout high school, SAT scores, the field you wanted to major in, and the application essay you would need to write. Second, comes the financial factor, which will look at the tuition fees and possibilities of a scholarship. Lastly, it would be the emotional factor which will consider your distance from home and how far are the universities your friends are considering, so reunions would not be an issue. In other words, cross-tabulating Academics + Finance + Emotions led you to a refined list of universities, one of which is or soon will be your Alma Mater.\n",
    "\n",
    "Cross-tabulation, also known as cross-tab or contingency table, is a statistical tool used for categorical data. Categorical data involves values that are mutually exclusive to each other. Data is always collected in numbers, but numbers have no value unless they mean something. 4,7,9 are merely numerical unless specified—for example, 4 apples, 7 bananas, and 9 kiwis.\n",
    "\n",
    "Researchers use cross-tabulation to examine the relationship within the data that is not readily evident. It is quite useful in market research studies and surveys. A cross-tab report shows the connection between two or more questions asked in the study.\n",
    "\n",
    "'''"
   ]
  },
  {
   "cell_type": "code",
   "execution_count": null,
   "id": "e7267640",
   "metadata": {},
   "outputs": [],
   "source": []
  }
 ],
 "metadata": {
  "kernelspec": {
   "display_name": "Python 3 (ipykernel)",
   "language": "python",
   "name": "python3"
  },
  "language_info": {
   "codemirror_mode": {
    "name": "ipython",
    "version": 3
   },
   "file_extension": ".py",
   "mimetype": "text/x-python",
   "name": "python",
   "nbconvert_exporter": "python",
   "pygments_lexer": "ipython3",
   "version": "3.8.11"
  }
 },
 "nbformat": 4,
 "nbformat_minor": 5
}
